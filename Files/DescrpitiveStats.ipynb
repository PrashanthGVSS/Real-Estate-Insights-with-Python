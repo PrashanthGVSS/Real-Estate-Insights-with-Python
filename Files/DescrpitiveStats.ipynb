{
  "nbformat": 4,
  "nbformat_minor": 0,
  "metadata": {
    "colab": {
      "provenance": []
    },
    "kernelspec": {
      "name": "python3",
      "display_name": "Python 3"
    },
    "language_info": {
      "name": "python"
    }
  },
  "cells": [
    {
      "cell_type": "code",
      "execution_count": null,
      "metadata": {
        "id": "dci9dMPK4YIG"
      },
      "outputs": [],
      "source": [
        "import pandas as pd"
      ]
    },
    {
      "cell_type": "code",
      "source": [
        "data = pd.read_csv(\"/content/preprocessed_data.csv\")"
      ],
      "metadata": {
        "id": "70u7yeaZ5lpU"
      },
      "execution_count": null,
      "outputs": []
    },
    {
      "cell_type": "code",
      "source": [
        "data.head()"
      ],
      "metadata": {
        "colab": {
          "base_uri": "https://localhost:8080/",
          "height": 313
        },
        "id": "AuzbObbX51st",
        "outputId": "0b0dfeaf-9a87-4d60-d7b0-6401c546661f"
      },
      "execution_count": null,
      "outputs": [
        {
          "output_type": "execute_result",
          "data": {
            "text/plain": [
              "   customerid  entity     name   surname   birthdate  sex  country  state  \\\n",
              "0           1       0     Kamd        Co  1986-06-21    0        7      1   \n",
              "1           2       1     Jack  Anderson  1947-02-13    2        7      1   \n",
              "2           3       1     Avah     Huang  1948-04-23    1        7      1   \n",
              "3           4       1     Nora     Lynch  1948-04-23    1        7      1   \n",
              "4           5       1  Rodolfo    Gibson  1937-01-20    2        7      4   \n",
              "\n",
              "   purpose  deal_satisfaction  mortgage  source  building    datesale  type  \\\n",
              "0        1                  5         0       0         1  2004-03-01     1   \n",
              "1        1                  5         1       2         1  2004-03-01     1   \n",
              "2        0                  5         0       2         1  2004-06-01     0   \n",
              "3        0                  5         0       2         1  2004-06-01     0   \n",
              "4        0                  2         1       2         1  2004-08-01     0   \n",
              "\n",
              "   property     area         price  status  \n",
              "0         5   410.71  $117,564.07        0  \n",
              "1         2  1238.58  $410,932.67        0  \n",
              "2        44   827.87  $229,464.71        0  \n",
              "3        43  1160.36  $377,313.56        0  \n",
              "4        33  1434.09  $412,856.56        0  "
            ],
            "text/html": [
              "\n",
              "  <div id=\"df-bbc860a8-5103-42f4-acfc-27bcce5126fa\" class=\"colab-df-container\">\n",
              "    <div>\n",
              "<style scoped>\n",
              "    .dataframe tbody tr th:only-of-type {\n",
              "        vertical-align: middle;\n",
              "    }\n",
              "\n",
              "    .dataframe tbody tr th {\n",
              "        vertical-align: top;\n",
              "    }\n",
              "\n",
              "    .dataframe thead th {\n",
              "        text-align: right;\n",
              "    }\n",
              "</style>\n",
              "<table border=\"1\" class=\"dataframe\">\n",
              "  <thead>\n",
              "    <tr style=\"text-align: right;\">\n",
              "      <th></th>\n",
              "      <th>customerid</th>\n",
              "      <th>entity</th>\n",
              "      <th>name</th>\n",
              "      <th>surname</th>\n",
              "      <th>birthdate</th>\n",
              "      <th>sex</th>\n",
              "      <th>country</th>\n",
              "      <th>state</th>\n",
              "      <th>purpose</th>\n",
              "      <th>deal_satisfaction</th>\n",
              "      <th>mortgage</th>\n",
              "      <th>source</th>\n",
              "      <th>building</th>\n",
              "      <th>datesale</th>\n",
              "      <th>type</th>\n",
              "      <th>property</th>\n",
              "      <th>area</th>\n",
              "      <th>price</th>\n",
              "      <th>status</th>\n",
              "    </tr>\n",
              "  </thead>\n",
              "  <tbody>\n",
              "    <tr>\n",
              "      <th>0</th>\n",
              "      <td>1</td>\n",
              "      <td>0</td>\n",
              "      <td>Kamd</td>\n",
              "      <td>Co</td>\n",
              "      <td>1986-06-21</td>\n",
              "      <td>0</td>\n",
              "      <td>7</td>\n",
              "      <td>1</td>\n",
              "      <td>1</td>\n",
              "      <td>5</td>\n",
              "      <td>0</td>\n",
              "      <td>0</td>\n",
              "      <td>1</td>\n",
              "      <td>2004-03-01</td>\n",
              "      <td>1</td>\n",
              "      <td>5</td>\n",
              "      <td>410.71</td>\n",
              "      <td>$117,564.07</td>\n",
              "      <td>0</td>\n",
              "    </tr>\n",
              "    <tr>\n",
              "      <th>1</th>\n",
              "      <td>2</td>\n",
              "      <td>1</td>\n",
              "      <td>Jack</td>\n",
              "      <td>Anderson</td>\n",
              "      <td>1947-02-13</td>\n",
              "      <td>2</td>\n",
              "      <td>7</td>\n",
              "      <td>1</td>\n",
              "      <td>1</td>\n",
              "      <td>5</td>\n",
              "      <td>1</td>\n",
              "      <td>2</td>\n",
              "      <td>1</td>\n",
              "      <td>2004-03-01</td>\n",
              "      <td>1</td>\n",
              "      <td>2</td>\n",
              "      <td>1238.58</td>\n",
              "      <td>$410,932.67</td>\n",
              "      <td>0</td>\n",
              "    </tr>\n",
              "    <tr>\n",
              "      <th>2</th>\n",
              "      <td>3</td>\n",
              "      <td>1</td>\n",
              "      <td>Avah</td>\n",
              "      <td>Huang</td>\n",
              "      <td>1948-04-23</td>\n",
              "      <td>1</td>\n",
              "      <td>7</td>\n",
              "      <td>1</td>\n",
              "      <td>0</td>\n",
              "      <td>5</td>\n",
              "      <td>0</td>\n",
              "      <td>2</td>\n",
              "      <td>1</td>\n",
              "      <td>2004-06-01</td>\n",
              "      <td>0</td>\n",
              "      <td>44</td>\n",
              "      <td>827.87</td>\n",
              "      <td>$229,464.71</td>\n",
              "      <td>0</td>\n",
              "    </tr>\n",
              "    <tr>\n",
              "      <th>3</th>\n",
              "      <td>4</td>\n",
              "      <td>1</td>\n",
              "      <td>Nora</td>\n",
              "      <td>Lynch</td>\n",
              "      <td>1948-04-23</td>\n",
              "      <td>1</td>\n",
              "      <td>7</td>\n",
              "      <td>1</td>\n",
              "      <td>0</td>\n",
              "      <td>5</td>\n",
              "      <td>0</td>\n",
              "      <td>2</td>\n",
              "      <td>1</td>\n",
              "      <td>2004-06-01</td>\n",
              "      <td>0</td>\n",
              "      <td>43</td>\n",
              "      <td>1160.36</td>\n",
              "      <td>$377,313.56</td>\n",
              "      <td>0</td>\n",
              "    </tr>\n",
              "    <tr>\n",
              "      <th>4</th>\n",
              "      <td>5</td>\n",
              "      <td>1</td>\n",
              "      <td>Rodolfo</td>\n",
              "      <td>Gibson</td>\n",
              "      <td>1937-01-20</td>\n",
              "      <td>2</td>\n",
              "      <td>7</td>\n",
              "      <td>4</td>\n",
              "      <td>0</td>\n",
              "      <td>2</td>\n",
              "      <td>1</td>\n",
              "      <td>2</td>\n",
              "      <td>1</td>\n",
              "      <td>2004-08-01</td>\n",
              "      <td>0</td>\n",
              "      <td>33</td>\n",
              "      <td>1434.09</td>\n",
              "      <td>$412,856.56</td>\n",
              "      <td>0</td>\n",
              "    </tr>\n",
              "  </tbody>\n",
              "</table>\n",
              "</div>\n",
              "    <div class=\"colab-df-buttons\">\n",
              "\n",
              "  <div class=\"colab-df-container\">\n",
              "    <button class=\"colab-df-convert\" onclick=\"convertToInteractive('df-bbc860a8-5103-42f4-acfc-27bcce5126fa')\"\n",
              "            title=\"Convert this dataframe to an interactive table.\"\n",
              "            style=\"display:none;\">\n",
              "\n",
              "  <svg xmlns=\"http://www.w3.org/2000/svg\" height=\"24px\" viewBox=\"0 -960 960 960\">\n",
              "    <path d=\"M120-120v-720h720v720H120Zm60-500h600v-160H180v160Zm220 220h160v-160H400v160Zm0 220h160v-160H400v160ZM180-400h160v-160H180v160Zm440 0h160v-160H620v160ZM180-180h160v-160H180v160Zm440 0h160v-160H620v160Z\"/>\n",
              "  </svg>\n",
              "    </button>\n",
              "\n",
              "  <style>\n",
              "    .colab-df-container {\n",
              "      display:flex;\n",
              "      gap: 12px;\n",
              "    }\n",
              "\n",
              "    .colab-df-convert {\n",
              "      background-color: #E8F0FE;\n",
              "      border: none;\n",
              "      border-radius: 50%;\n",
              "      cursor: pointer;\n",
              "      display: none;\n",
              "      fill: #1967D2;\n",
              "      height: 32px;\n",
              "      padding: 0 0 0 0;\n",
              "      width: 32px;\n",
              "    }\n",
              "\n",
              "    .colab-df-convert:hover {\n",
              "      background-color: #E2EBFA;\n",
              "      box-shadow: 0px 1px 2px rgba(60, 64, 67, 0.3), 0px 1px 3px 1px rgba(60, 64, 67, 0.15);\n",
              "      fill: #174EA6;\n",
              "    }\n",
              "\n",
              "    .colab-df-buttons div {\n",
              "      margin-bottom: 4px;\n",
              "    }\n",
              "\n",
              "    [theme=dark] .colab-df-convert {\n",
              "      background-color: #3B4455;\n",
              "      fill: #D2E3FC;\n",
              "    }\n",
              "\n",
              "    [theme=dark] .colab-df-convert:hover {\n",
              "      background-color: #434B5C;\n",
              "      box-shadow: 0px 1px 3px 1px rgba(0, 0, 0, 0.15);\n",
              "      filter: drop-shadow(0px 1px 2px rgba(0, 0, 0, 0.3));\n",
              "      fill: #FFFFFF;\n",
              "    }\n",
              "  </style>\n",
              "\n",
              "    <script>\n",
              "      const buttonEl =\n",
              "        document.querySelector('#df-bbc860a8-5103-42f4-acfc-27bcce5126fa button.colab-df-convert');\n",
              "      buttonEl.style.display =\n",
              "        google.colab.kernel.accessAllowed ? 'block' : 'none';\n",
              "\n",
              "      async function convertToInteractive(key) {\n",
              "        const element = document.querySelector('#df-bbc860a8-5103-42f4-acfc-27bcce5126fa');\n",
              "        const dataTable =\n",
              "          await google.colab.kernel.invokeFunction('convertToInteractive',\n",
              "                                                    [key], {});\n",
              "        if (!dataTable) return;\n",
              "\n",
              "        const docLinkHtml = 'Like what you see? Visit the ' +\n",
              "          '<a target=\"_blank\" href=https://colab.research.google.com/notebooks/data_table.ipynb>data table notebook</a>'\n",
              "          + ' to learn more about interactive tables.';\n",
              "        element.innerHTML = '';\n",
              "        dataTable['output_type'] = 'display_data';\n",
              "        await google.colab.output.renderOutput(dataTable, element);\n",
              "        const docLink = document.createElement('div');\n",
              "        docLink.innerHTML = docLinkHtml;\n",
              "        element.appendChild(docLink);\n",
              "      }\n",
              "    </script>\n",
              "  </div>\n",
              "\n",
              "\n",
              "<div id=\"df-b4e582af-f495-441d-b15e-6b5c0898475e\">\n",
              "  <button class=\"colab-df-quickchart\" onclick=\"quickchart('df-b4e582af-f495-441d-b15e-6b5c0898475e')\"\n",
              "            title=\"Suggest charts\"\n",
              "            style=\"display:none;\">\n",
              "\n",
              "<svg xmlns=\"http://www.w3.org/2000/svg\" height=\"24px\"viewBox=\"0 0 24 24\"\n",
              "     width=\"24px\">\n",
              "    <g>\n",
              "        <path d=\"M19 3H5c-1.1 0-2 .9-2 2v14c0 1.1.9 2 2 2h14c1.1 0 2-.9 2-2V5c0-1.1-.9-2-2-2zM9 17H7v-7h2v7zm4 0h-2V7h2v10zm4 0h-2v-4h2v4z\"/>\n",
              "    </g>\n",
              "</svg>\n",
              "  </button>\n",
              "\n",
              "<style>\n",
              "  .colab-df-quickchart {\n",
              "      --bg-color: #E8F0FE;\n",
              "      --fill-color: #1967D2;\n",
              "      --hover-bg-color: #E2EBFA;\n",
              "      --hover-fill-color: #174EA6;\n",
              "      --disabled-fill-color: #AAA;\n",
              "      --disabled-bg-color: #DDD;\n",
              "  }\n",
              "\n",
              "  [theme=dark] .colab-df-quickchart {\n",
              "      --bg-color: #3B4455;\n",
              "      --fill-color: #D2E3FC;\n",
              "      --hover-bg-color: #434B5C;\n",
              "      --hover-fill-color: #FFFFFF;\n",
              "      --disabled-bg-color: #3B4455;\n",
              "      --disabled-fill-color: #666;\n",
              "  }\n",
              "\n",
              "  .colab-df-quickchart {\n",
              "    background-color: var(--bg-color);\n",
              "    border: none;\n",
              "    border-radius: 50%;\n",
              "    cursor: pointer;\n",
              "    display: none;\n",
              "    fill: var(--fill-color);\n",
              "    height: 32px;\n",
              "    padding: 0;\n",
              "    width: 32px;\n",
              "  }\n",
              "\n",
              "  .colab-df-quickchart:hover {\n",
              "    background-color: var(--hover-bg-color);\n",
              "    box-shadow: 0 1px 2px rgba(60, 64, 67, 0.3), 0 1px 3px 1px rgba(60, 64, 67, 0.15);\n",
              "    fill: var(--button-hover-fill-color);\n",
              "  }\n",
              "\n",
              "  .colab-df-quickchart-complete:disabled,\n",
              "  .colab-df-quickchart-complete:disabled:hover {\n",
              "    background-color: var(--disabled-bg-color);\n",
              "    fill: var(--disabled-fill-color);\n",
              "    box-shadow: none;\n",
              "  }\n",
              "\n",
              "  .colab-df-spinner {\n",
              "    border: 2px solid var(--fill-color);\n",
              "    border-color: transparent;\n",
              "    border-bottom-color: var(--fill-color);\n",
              "    animation:\n",
              "      spin 1s steps(1) infinite;\n",
              "  }\n",
              "\n",
              "  @keyframes spin {\n",
              "    0% {\n",
              "      border-color: transparent;\n",
              "      border-bottom-color: var(--fill-color);\n",
              "      border-left-color: var(--fill-color);\n",
              "    }\n",
              "    20% {\n",
              "      border-color: transparent;\n",
              "      border-left-color: var(--fill-color);\n",
              "      border-top-color: var(--fill-color);\n",
              "    }\n",
              "    30% {\n",
              "      border-color: transparent;\n",
              "      border-left-color: var(--fill-color);\n",
              "      border-top-color: var(--fill-color);\n",
              "      border-right-color: var(--fill-color);\n",
              "    }\n",
              "    40% {\n",
              "      border-color: transparent;\n",
              "      border-right-color: var(--fill-color);\n",
              "      border-top-color: var(--fill-color);\n",
              "    }\n",
              "    60% {\n",
              "      border-color: transparent;\n",
              "      border-right-color: var(--fill-color);\n",
              "    }\n",
              "    80% {\n",
              "      border-color: transparent;\n",
              "      border-right-color: var(--fill-color);\n",
              "      border-bottom-color: var(--fill-color);\n",
              "    }\n",
              "    90% {\n",
              "      border-color: transparent;\n",
              "      border-bottom-color: var(--fill-color);\n",
              "    }\n",
              "  }\n",
              "</style>\n",
              "\n",
              "  <script>\n",
              "    async function quickchart(key) {\n",
              "      const quickchartButtonEl =\n",
              "        document.querySelector('#' + key + ' button');\n",
              "      quickchartButtonEl.disabled = true;  // To prevent multiple clicks.\n",
              "      quickchartButtonEl.classList.add('colab-df-spinner');\n",
              "      try {\n",
              "        const charts = await google.colab.kernel.invokeFunction(\n",
              "            'suggestCharts', [key], {});\n",
              "      } catch (error) {\n",
              "        console.error('Error during call to suggestCharts:', error);\n",
              "      }\n",
              "      quickchartButtonEl.classList.remove('colab-df-spinner');\n",
              "      quickchartButtonEl.classList.add('colab-df-quickchart-complete');\n",
              "    }\n",
              "    (() => {\n",
              "      let quickchartButtonEl =\n",
              "        document.querySelector('#df-b4e582af-f495-441d-b15e-6b5c0898475e button');\n",
              "      quickchartButtonEl.style.display =\n",
              "        google.colab.kernel.accessAllowed ? 'block' : 'none';\n",
              "    })();\n",
              "  </script>\n",
              "</div>\n",
              "\n",
              "    </div>\n",
              "  </div>\n"
            ],
            "application/vnd.google.colaboratory.intrinsic+json": {
              "type": "dataframe",
              "variable_name": "data",
              "summary": "{\n  \"name\": \"data\",\n  \"rows\": 267,\n  \"fields\": [\n    {\n      \"column\": \"customerid\",\n      \"properties\": {\n        \"dtype\": \"number\",\n        \"std\": 44,\n        \"min\": 1,\n        \"max\": 175,\n        \"num_unique_values\": 162,\n        \"samples\": [\n          171,\n          118,\n          140\n        ],\n        \"semantic_type\": \"\",\n        \"description\": \"\"\n      }\n    },\n    {\n      \"column\": \"entity\",\n      \"properties\": {\n        \"dtype\": \"number\",\n        \"std\": 0,\n        \"min\": 0,\n        \"max\": 1,\n        \"num_unique_values\": 2,\n        \"samples\": [\n          1,\n          0\n        ],\n        \"semantic_type\": \"\",\n        \"description\": \"\"\n      }\n    },\n    {\n      \"column\": \"name\",\n      \"properties\": {\n        \"dtype\": \"string\",\n        \"num_unique_values\": 159,\n        \"samples\": [\n          \"Violet\",\n          \"Skylar\"\n        ],\n        \"semantic_type\": \"\",\n        \"description\": \"\"\n      }\n    },\n    {\n      \"column\": \"surname\",\n      \"properties\": {\n        \"dtype\": \"string\",\n        \"num_unique_values\": 156,\n        \"samples\": [\n          \"Howard\",\n          \"Ayers\"\n        ],\n        \"semantic_type\": \"\",\n        \"description\": \"\"\n      }\n    },\n    {\n      \"column\": \"birthdate\",\n      \"properties\": {\n        \"dtype\": \"object\",\n        \"num_unique_values\": 151,\n        \"samples\": [\n          \"1973-07-17\",\n          \"1932-06-13\"\n        ],\n        \"semantic_type\": \"\",\n        \"description\": \"\"\n      }\n    },\n    {\n      \"column\": \"sex\",\n      \"properties\": {\n        \"dtype\": \"number\",\n        \"std\": 0,\n        \"min\": 0,\n        \"max\": 2,\n        \"num_unique_values\": 3,\n        \"samples\": [\n          0,\n          2\n        ],\n        \"semantic_type\": \"\",\n        \"description\": \"\"\n      }\n    },\n    {\n      \"column\": \"country\",\n      \"properties\": {\n        \"dtype\": \"number\",\n        \"std\": 1,\n        \"min\": 0,\n        \"max\": 7,\n        \"num_unique_values\": 8,\n        \"samples\": [\n          0,\n          4\n        ],\n        \"semantic_type\": \"\",\n        \"description\": \"\"\n      }\n    },\n    {\n      \"column\": \"state\",\n      \"properties\": {\n        \"dtype\": \"number\",\n        \"std\": 1,\n        \"min\": 0,\n        \"max\": 9,\n        \"num_unique_values\": 10,\n        \"samples\": [\n          9,\n          4\n        ],\n        \"semantic_type\": \"\",\n        \"description\": \"\"\n      }\n    },\n    {\n      \"column\": \"purpose\",\n      \"properties\": {\n        \"dtype\": \"number\",\n        \"std\": 0,\n        \"min\": 0,\n        \"max\": 1,\n        \"num_unique_values\": 2,\n        \"samples\": [\n          0,\n          1\n        ],\n        \"semantic_type\": \"\",\n        \"description\": \"\"\n      }\n    },\n    {\n      \"column\": \"deal_satisfaction\",\n      \"properties\": {\n        \"dtype\": \"number\",\n        \"std\": 1,\n        \"min\": 1,\n        \"max\": 5,\n        \"num_unique_values\": 5,\n        \"samples\": [\n          2,\n          1\n        ],\n        \"semantic_type\": \"\",\n        \"description\": \"\"\n      }\n    },\n    {\n      \"column\": \"mortgage\",\n      \"properties\": {\n        \"dtype\": \"number\",\n        \"std\": 0,\n        \"min\": 0,\n        \"max\": 1,\n        \"num_unique_values\": 2,\n        \"samples\": [\n          1,\n          0\n        ],\n        \"semantic_type\": \"\",\n        \"description\": \"\"\n      }\n    },\n    {\n      \"column\": \"source\",\n      \"properties\": {\n        \"dtype\": \"number\",\n        \"std\": 0,\n        \"min\": 0,\n        \"max\": 2,\n        \"num_unique_values\": 3,\n        \"samples\": [\n          0,\n          2\n        ],\n        \"semantic_type\": \"\",\n        \"description\": \"\"\n      }\n    },\n    {\n      \"column\": \"building\",\n      \"properties\": {\n        \"dtype\": \"number\",\n        \"std\": 1,\n        \"min\": 1,\n        \"max\": 5,\n        \"num_unique_values\": 5,\n        \"samples\": [\n          2,\n          5\n        ],\n        \"semantic_type\": \"\",\n        \"description\": \"\"\n      }\n    },\n    {\n      \"column\": \"datesale\",\n      \"properties\": {\n        \"dtype\": \"object\",\n        \"num_unique_values\": 43,\n        \"samples\": [\n          \"2007-09-01\",\n          \"2007-08-01\"\n        ],\n        \"semantic_type\": \"\",\n        \"description\": \"\"\n      }\n    },\n    {\n      \"column\": \"type\",\n      \"properties\": {\n        \"dtype\": \"number\",\n        \"std\": 0,\n        \"min\": 0,\n        \"max\": 1,\n        \"num_unique_values\": 2,\n        \"samples\": [\n          0,\n          1\n        ],\n        \"semantic_type\": \"\",\n        \"description\": \"\"\n      }\n    },\n    {\n      \"column\": \"property\",\n      \"properties\": {\n        \"dtype\": \"number\",\n        \"std\": 15,\n        \"min\": 1,\n        \"max\": 59,\n        \"num_unique_values\": 59,\n        \"samples\": [\n          5,\n          38\n        ],\n        \"semantic_type\": \"\",\n        \"description\": \"\"\n      }\n    },\n    {\n      \"column\": \"area\",\n      \"properties\": {\n        \"dtype\": \"number\",\n        \"std\": 284.89485784490876,\n        \"min\": 410.71,\n        \"max\": 1942.5,\n        \"num_unique_values\": 97,\n        \"samples\": [\n          1769.48,\n          928.16\n        ],\n        \"semantic_type\": \"\",\n        \"description\": \"\"\n      }\n    },\n    {\n      \"column\": \"price\",\n      \"properties\": {\n        \"dtype\": \"string\",\n        \"num_unique_values\": 266,\n        \"samples\": [\n          \"$338,472.13 \",\n          \"$225,290.22 \"\n        ],\n        \"semantic_type\": \"\",\n        \"description\": \"\"\n      }\n    },\n    {\n      \"column\": \"status\",\n      \"properties\": {\n        \"dtype\": \"number\",\n        \"std\": 0,\n        \"min\": 0,\n        \"max\": 1,\n        \"num_unique_values\": 2,\n        \"samples\": [\n          1,\n          0\n        ],\n        \"semantic_type\": \"\",\n        \"description\": \"\"\n      }\n    }\n  ]\n}"
            }
          },
          "metadata": {},
          "execution_count": 4
        }
      ]
    },
    {
      "cell_type": "markdown",
      "source": [
        "1 - Breakdown by Building"
      ],
      "metadata": {
        "id": "4kjhiR796DkK"
      }
    },
    {
      "cell_type": "code",
      "source": [
        "# Identify unique building types\n",
        "building_types = data['building'].unique()"
      ],
      "metadata": {
        "id": "tQQinBS858Pk"
      },
      "execution_count": null,
      "outputs": []
    },
    {
      "cell_type": "code",
      "source": [
        "print(building_types)"
      ],
      "metadata": {
        "colab": {
          "base_uri": "https://localhost:8080/"
        },
        "id": "tBApKkCp6IKf",
        "outputId": "f32113f6-b1b1-4e10-b1c5-ff7310ca51db"
      },
      "execution_count": null,
      "outputs": [
        {
          "output_type": "stream",
          "name": "stdout",
          "text": [
            "[1 2 3 4 5]\n"
          ]
        }
      ]
    },
    {
      "cell_type": "code",
      "source": [
        "# Select columns of interest\n",
        "totals_columns = ['building', 'price', 'mortgage']"
      ],
      "metadata": {
        "id": "_wGbu2l_6N7u"
      },
      "execution_count": null,
      "outputs": []
    },
    {
      "cell_type": "code",
      "source": [
        "# Create totals DataFrame\n",
        "totals_df = data[totals_columns]"
      ],
      "metadata": {
        "id": "B3scDtlQ6S8r"
      },
      "execution_count": null,
      "outputs": []
    },
    {
      "cell_type": "code",
      "source": [
        "# Group totals by building type and aggregate\n",
        "totals_by_building = totals_df.groupby('building').sum()"
      ],
      "metadata": {
        "id": "njJhMnnu6UQh"
      },
      "execution_count": null,
      "outputs": []
    },
    {
      "cell_type": "code",
      "source": [
        "totals_avg = ['building','area','price','deal_satisfaction']"
      ],
      "metadata": {
        "id": "XdjvDP586ZPx"
      },
      "execution_count": null,
      "outputs": []
    },
    {
      "cell_type": "code",
      "source": [
        "totals_avg_df = data[totals_avg]"
      ],
      "metadata": {
        "id": "VSSN48cK6cQd"
      },
      "execution_count": null,
      "outputs": []
    },
    {
      "cell_type": "code",
      "source": [
        "totals_avg_df['price'] = totals_avg_df['price'].str.replace('$', '', regex=False).str.replace(',', '', regex=False).astype(float)"
      ],
      "metadata": {
        "colab": {
          "base_uri": "https://localhost:8080/"
        },
        "id": "8_BMf0nC62t3",
        "outputId": "8b3560c5-4b2f-41c6-b945-c65f2e1ce5dc"
      },
      "execution_count": null,
      "outputs": [
        {
          "output_type": "stream",
          "name": "stderr",
          "text": [
            "<ipython-input-13-5d0449953ade>:1: SettingWithCopyWarning: \n",
            "A value is trying to be set on a copy of a slice from a DataFrame.\n",
            "Try using .loc[row_indexer,col_indexer] = value instead\n",
            "\n",
            "See the caveats in the documentation: https://pandas.pydata.org/pandas-docs/stable/user_guide/indexing.html#returning-a-view-versus-a-copy\n",
            "  totals_avg_df['price'] = totals_avg_df['price'].str.replace('$', '', regex=False).str.replace(',', '', regex=False).astype(float)\n"
          ]
        }
      ]
    },
    {
      "cell_type": "code",
      "source": [
        "averages_by_building = totals_avg_df.groupby('building').mean()"
      ],
      "metadata": {
        "id": "oQdhO24e6ewV"
      },
      "execution_count": null,
      "outputs": []
    },
    {
      "cell_type": "code",
      "source": [
        "# Display the results\n",
        "print(\"Total Properties Sold and Mortgaged by Building Type:\")\n",
        "print(totals_by_building)\n",
        "\n",
        "print(\"\\nAverage Area, Price, and Deal Satisfaction by Building Type:\")\n",
        "print(averages_by_building)"
      ],
      "metadata": {
        "colab": {
          "base_uri": "https://localhost:8080/"
        },
        "id": "Xc_ZXS2E66sK",
        "outputId": "cc3650a6-9ec7-48f0-839e-74ae39bad06a"
      },
      "execution_count": null,
      "outputs": [
        {
          "output_type": "stream",
          "name": "stdout",
          "text": [
            "Total Properties Sold and Mortgaged by Building Type:\n",
            "                                                      price  mortgage\n",
            "building                                                             \n",
            "1         $117,564.07 $410,932.67 $229,464.71 $377,313.5...        20\n",
            "2         $219,373.41 $214,341.34 $306,363.64 $225,050.5...        21\n",
            "3         $245,572.79 $207,281.59 $215,774.28 $231,552.3...        25\n",
            "4         $217,786.38 $263,790.81 $236,608.95 $200,678.7...        29\n",
            "5         $240,539.35 $261,742.74 $195,874.94 $357,538.2...        39\n",
            "\n",
            "Average Area, Price, and Deal Satisfaction by Building Type:\n",
            "                area          price  deal_satisfaction\n",
            "building                                              \n",
            "1         928.038846  275143.242500           3.673077\n",
            "2         943.891930  286661.848246           3.543860\n",
            "3         927.852381  280451.255556           3.634921\n",
            "4         974.720930  290239.515581           3.930233\n",
            "5         914.298654  274557.604615           3.826923\n"
          ]
        }
      ]
    },
    {
      "cell_type": "markdown",
      "source": [
        "Breakdown by Country"
      ],
      "metadata": {
        "id": "XX9bjowq7pwu"
      }
    },
    {
      "cell_type": "code",
      "source": [
        "print(data['country'].unique())"
      ],
      "metadata": {
        "colab": {
          "base_uri": "https://localhost:8080/"
        },
        "id": "ZixDnXTU7BFV",
        "outputId": "e95d437b-4185-4941-8464-70b66bb0d2cc"
      },
      "execution_count": null,
      "outputs": [
        {
          "output_type": "stream",
          "name": "stdout",
          "text": [
            "[7 0 5 2 1 4 6 3]\n"
          ]
        }
      ]
    },
    {
      "cell_type": "code",
      "source": [
        "# Select columns of interest\n",
        "totals_columns = ['country', 'price', 'mortgage']"
      ],
      "metadata": {
        "id": "BpKcTS3o7soB"
      },
      "execution_count": null,
      "outputs": []
    },
    {
      "cell_type": "code",
      "source": [
        "country_totals_df = data[totals_columns]"
      ],
      "metadata": {
        "id": "imFrN4C17ydz"
      },
      "execution_count": null,
      "outputs": []
    },
    {
      "cell_type": "code",
      "source": [
        "totals_by_county = country_totals_df.groupby('country').sum()"
      ],
      "metadata": {
        "id": "bRhCgMD171qn"
      },
      "execution_count": null,
      "outputs": []
    },
    {
      "cell_type": "code",
      "source": [
        "totals_avg = ['country','area','price','deal_satisfaction']"
      ],
      "metadata": {
        "id": "ODzQzSfD9Pja"
      },
      "execution_count": null,
      "outputs": []
    },
    {
      "cell_type": "code",
      "source": [
        "country_avg_df = data[totals_avg].copy()"
      ],
      "metadata": {
        "id": "hBDWXVi18Ayz"
      },
      "execution_count": null,
      "outputs": []
    },
    {
      "cell_type": "code",
      "source": [],
      "metadata": {
        "id": "feD2IcDK9dlQ"
      },
      "execution_count": null,
      "outputs": []
    },
    {
      "cell_type": "code",
      "source": [
        "# Display the results\n",
        "print(\"Total Properties Sold and Mortgaged by Country:\")\n",
        "print(totals_by_county)\n",
        "print(\"Averages by Country:\")"
      ],
      "metadata": {
        "colab": {
          "base_uri": "https://localhost:8080/"
        },
        "id": "MfyzYWQx9AlJ",
        "outputId": "d1f975d9-4b3a-4e89-b71e-5afde056e47e"
      },
      "execution_count": null,
      "outputs": [
        {
          "output_type": "stream",
          "name": "stdout",
          "text": [
            "Total Properties Sold and Mortgaged by Country:\n",
            "                                                     price  mortgage\n",
            "country                                                             \n",
            "0                                 $215,410.28 $242,740.66          0\n",
            "1        $356,506.37 $177,555.06 $484,458.03 $197,869.3...         0\n",
            "2                                             $257,183.48          0\n",
            "3                                             $205,098.21          0\n",
            "4                                             $338,181.18          0\n",
            "5         $261,579.89 $248,274.31 $289,727.99 $315,733.15          1\n",
            "6                                 $226,342.80 $213,942.56          0\n",
            "7        $117,564.07 $410,932.67 $229,464.71 $377,313.5...       133\n",
            "Averages by Country:\n"
          ]
        }
      ]
    },
    {
      "cell_type": "markdown",
      "source": [
        "Breakdown by State"
      ],
      "metadata": {
        "id": "x0ZFcWnp9zsU"
      }
    },
    {
      "cell_type": "code",
      "source": [
        "print(data['state'].unique())"
      ],
      "metadata": {
        "colab": {
          "base_uri": "https://localhost:8080/"
        },
        "id": "ax4LeP2b9y7-",
        "outputId": "745863bb-9dc7-4f29-ad4f-c02bed661146"
      },
      "execution_count": null,
      "outputs": [
        {
          "output_type": "stream",
          "name": "stdout",
          "text": [
            "[1 4 7 5 8 6 0 2 9 3]\n"
          ]
        }
      ]
    },
    {
      "cell_type": "code",
      "source": [
        "# Select columns of interest\n",
        "totals_columns = ['state', 'price', 'mortgage']"
      ],
      "metadata": {
        "id": "lQhbimvz927z"
      },
      "execution_count": null,
      "outputs": []
    },
    {
      "cell_type": "code",
      "source": [
        "# Create totals DataFrame\n",
        "state_totals_df = data[totals_columns]"
      ],
      "metadata": {
        "id": "mwHPC-mH95C8"
      },
      "execution_count": null,
      "outputs": []
    },
    {
      "cell_type": "code",
      "source": [
        "# Group totals by state and aggregate\n",
        "totals_by_state = state_totals_df.groupby('state').sum()"
      ],
      "metadata": {
        "id": "8IC2dUBG96wJ"
      },
      "execution_count": null,
      "outputs": []
    },
    {
      "cell_type": "code",
      "source": [
        "# Display the results\n",
        "print(\"Total Properties Sold and Mortgaged by State:\")\n",
        "print(totals_by_state)"
      ],
      "metadata": {
        "colab": {
          "base_uri": "https://localhost:8080/"
        },
        "id": "H5tZ-Cvf99Dk",
        "outputId": "09014818-351e-4c48-c3bb-f8916e11bb97"
      },
      "execution_count": null,
      "outputs": [
        {
          "output_type": "stream",
          "name": "stdout",
          "text": [
            "Total Properties Sold and Mortgaged by State:\n",
            "                                                   price  mortgage\n",
            "state                                                             \n",
            "0      $193,660.62 $265,467.68 $293,876.27 $261,742.7...         3\n",
            "1      $117,564.07 $410,932.67 $229,464.71 $377,313.5...       113\n",
            "2      $196,142.19 $229,581.78 $344,568.74 $237,060.1...         5\n",
            "3                                           $252,185.99          0\n",
            "4      $412,856.56 $238,811.06 $264,142.16 $317,196.4...         8\n",
            "5      $317,473.86 $224,463.87 $214,631.68 $195,153.1...         1\n",
            "6      $215,410.28 $261,579.89 $257,183.48 $248,274.3...         1\n",
            "7      $218,585.92 $214,341.34 $153,466.71 $200,300.6...         1\n",
            "8       $208,930.81 $212,520.83 $203,491.85 $235,633.26          2\n",
            "9                                           $204,286.67          0\n"
          ]
        }
      ]
    },
    {
      "cell_type": "code",
      "source": [
        "# Select columns of interest\n",
        "average_columns = ['state','area' ,'price', 'deal_satisfaction']"
      ],
      "metadata": {
        "id": "tJy2xtZJ-Ayq"
      },
      "execution_count": null,
      "outputs": []
    },
    {
      "cell_type": "code",
      "source": [
        "# Create totals DataFrame\n",
        "state_avg_df = data[average_columns]"
      ],
      "metadata": {
        "id": "LuSm9sVa-DQQ"
      },
      "execution_count": null,
      "outputs": []
    },
    {
      "cell_type": "code",
      "source": [
        "state_avg_df['price'] = state_avg_df['price'].str.replace('$', '', regex=False).str.replace(',', '', regex=False).astype(float)"
      ],
      "metadata": {
        "colab": {
          "base_uri": "https://localhost:8080/"
        },
        "id": "FipcF5L_-XYr",
        "outputId": "e5383ee2-1057-407d-aa26-96cfd2e46a7e"
      },
      "execution_count": null,
      "outputs": [
        {
          "output_type": "stream",
          "name": "stderr",
          "text": [
            "<ipython-input-39-3013ed69bdad>:1: SettingWithCopyWarning: \n",
            "A value is trying to be set on a copy of a slice from a DataFrame.\n",
            "Try using .loc[row_indexer,col_indexer] = value instead\n",
            "\n",
            "See the caveats in the documentation: https://pandas.pydata.org/pandas-docs/stable/user_guide/indexing.html#returning-a-view-versus-a-copy\n",
            "  state_avg_df['price'] = state_avg_df['price'].str.replace('$', '', regex=False).str.replace(',', '', regex=False).astype(float)\n"
          ]
        }
      ]
    },
    {
      "cell_type": "code",
      "source": [
        "# Group totals by state and aggregate\n",
        "averages_by_state = state_avg_df.groupby('state').mean()"
      ],
      "metadata": {
        "id": "sixxjs5N-I2X"
      },
      "execution_count": null,
      "outputs": []
    },
    {
      "cell_type": "code",
      "source": [
        "# Display the results\n",
        "print(\"Averages by State:\")\n",
        "print(averages_by_state)"
      ],
      "metadata": {
        "colab": {
          "base_uri": "https://localhost:8080/"
        },
        "id": "m07iCsMk-avO",
        "outputId": "b37e1898-412b-448f-b3d4-192986ff2ca0"
      },
      "execution_count": null,
      "outputs": [
        {
          "output_type": "stream",
          "name": "stdout",
          "text": [
            "Averages by State:\n",
            "             area          price  deal_satisfaction\n",
            "state                                              \n",
            "0      841.627273  259526.946364           3.363636\n",
            "1      971.615885  291535.662760           3.843750\n",
            "2      777.010909  233662.461818           3.181818\n",
            "3      923.210000  252185.990000           3.000000\n",
            "4      921.692941  277649.329412           3.235294\n",
            "5      766.954545  236593.322727           3.090909\n",
            "6      920.563571  274612.569286           3.642857\n",
            "7      814.986000  237755.280000           3.200000\n",
            "8      730.712500  215144.187500           4.500000\n",
            "9      701.660000  204286.670000           3.000000\n"
          ]
        }
      ]
    },
    {
      "cell_type": "code",
      "source": [
        "# Frequency distribution by state\n",
        "frequency_by_state = data['state'].value_counts().reset_index()\n",
        "frequency_by_state.columns = ['state', 'frequency']"
      ],
      "metadata": {
        "id": "jd4885TP-c53"
      },
      "execution_count": null,
      "outputs": []
    },
    {
      "cell_type": "code",
      "source": [
        "# Relative frequency by state\n",
        "total_properties = len(data)\n",
        "frequency_by_state['relative_frequency'] = frequency_by_state['frequency'] / total_properties"
      ],
      "metadata": {
        "id": "rGL61Q56-guU"
      },
      "execution_count": null,
      "outputs": []
    },
    {
      "cell_type": "code",
      "source": [
        "# Cumulative frequency by state\n",
        "frequency_by_state['cumulative_frequency'] = frequency_by_state['frequency'].cumsum()"
      ],
      "metadata": {
        "id": "4u9yfMYh-i8u"
      },
      "execution_count": null,
      "outputs": []
    },
    {
      "cell_type": "code",
      "source": [
        "# Display the results\n",
        "print(\"Frequency by State:\")\n",
        "print(frequency_by_state)\n",
        "\n",
        "# Save the results to a CSV file, if needed\n",
        "frequency_by_state.to_csv('frequency_by_state.csv', index=False)"
      ],
      "metadata": {
        "colab": {
          "base_uri": "https://localhost:8080/"
        },
        "id": "GRHF0JyQ-lGF",
        "outputId": "4129a529-0e52-4f8d-e1fc-43d3b85032df"
      },
      "execution_count": null,
      "outputs": [
        {
          "output_type": "stream",
          "name": "stdout",
          "text": [
            "Frequency by State:\n",
            "   state  frequency  relative_frequency  cumulative_frequency\n",
            "0      1        192            0.719101                   192\n",
            "1      4         17            0.063670                   209\n",
            "2      6         14            0.052434                   223\n",
            "3      5         11            0.041199                   234\n",
            "4      0         11            0.041199                   245\n",
            "5      2         11            0.041199                   256\n",
            "6      7          5            0.018727                   261\n",
            "7      8          4            0.014981                   265\n",
            "8      9          1            0.003745                   266\n",
            "9      3          1            0.003745                   267\n"
          ]
        }
      ]
    }
  ]
}